{
 "cells": [
  {
   "cell_type": "code",
   "execution_count": null,
   "metadata": {},
   "outputs": [],
   "source": [
    "%pip install openai"
   ]
  },
  {
   "cell_type": "code",
   "execution_count": null,
   "metadata": {},
   "outputs": [],
   "source": [
    "%pip install python-dotenv\n"
   ]
  },
  {
   "cell_type": "code",
   "execution_count": 6,
   "metadata": {},
   "outputs": [
    {
     "name": "stdout",
     "output_type": "stream",
     "text": [
      "d:\\openai\\.env\n",
      "['__annotations__', '__class__', '__class_getitem__', '__del__', '__delattr__', '__dict__', '__dir__', '__doc__', '__enter__', '__eq__', '__exit__', '__format__', '__ge__', '__getattribute__', '__getstate__', '__gt__', '__hash__', '__init__', '__init_subclass__', '__le__', '__lt__', '__module__', '__ne__', '__new__', '__orig_bases__', '__parameters__', '__reduce__', '__reduce_ex__', '__repr__', '__setattr__', '__sizeof__', '__slots__', '__str__', '__subclasshook__', '__weakref__', '_base_url', '_build_headers', '_build_request', '_calculate_retry_timeout', '_client', '_custom_headers', '_custom_query', '_default_stream_cls', '_enforce_trailing_slash', '_has_custom_http_client', '_idempotency_header', '_idempotency_key', '_is_protocol', '_limits', '_make_status_error', '_make_status_error_from_response', '_prepare_options', '_prepare_request', '_prepare_url', '_process_response', '_process_response_data', '_proxies', '_remaining_retries', '_request', '_request_api_list', '_retry_request', '_serialize_multipartform', '_should_retry', '_strict_response_validation', '_transport', '_validate_headers', '_version', 'api_key', 'audio', 'auth_headers', 'base_url', 'beta', 'chat', 'close', 'completions', 'copy', 'custom_auth', 'default_headers', 'delete', 'edits', 'embeddings', 'files', 'fine_tunes', 'fine_tuning', 'get', 'get_api_list', 'images', 'is_closed', 'max_retries', 'models', 'moderations', 'organization', 'patch', 'platform_headers', 'post', 'put', 'qs', 'request', 'timeout', 'user_agent', 'with_options', 'with_raw_response']\n"
     ]
    }
   ],
   "source": [
    "from openai import OpenAI\n",
    "from dotenv import find_dotenv, load_dotenv\n",
    "_:bool = load_dotenv(find_dotenv()) # it will find and load the .env file d:\\openai\\.env\n",
    "print(find_dotenv())\n",
    "client:OpenAI= OpenAI()\n",
    "print(dir(client))"
   ]
  },
  {
   "cell_type": "code",
   "execution_count": null,
   "metadata": {},
   "outputs": [],
   "source": [
    "from openai import OpenAI\n",
    "from dotenv import find_dotenv, load_dotenv\n",
    "_:bool = load_dotenv(find_dotenv())\n",
    "\n",
    "client:OpenAI= OpenAI()\n",
    "print(dir(client))"
   ]
  }
 ],
 "metadata": {
  "kernelspec": {
   "display_name": "base",
   "language": "python",
   "name": "python3"
  },
  "language_info": {
   "codemirror_mode": {
    "name": "ipython",
    "version": 3
   },
   "file_extension": ".py",
   "mimetype": "text/x-python",
   "name": "python",
   "nbconvert_exporter": "python",
   "pygments_lexer": "ipython3",
   "version": "3.11.5"
  }
 },
 "nbformat": 4,
 "nbformat_minor": 2
}
